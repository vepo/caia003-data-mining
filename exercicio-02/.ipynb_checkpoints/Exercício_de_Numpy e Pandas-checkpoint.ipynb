{
 "cells": [
  {
   "cell_type": "markdown",
   "metadata": {
    "id": "F8d0lbwpoJT1"
   },
   "source": [
    "# **Numpy**"
   ]
  },
  {
   "cell_type": "code",
   "execution_count": 1,
   "metadata": {
    "id": "muMaQHaDuqAp"
   },
   "outputs": [],
   "source": [
    "import numpy as np"
   ]
  },
  {
   "cell_type": "markdown",
   "metadata": {
    "id": "4BjJmVploNCh"
   },
   "source": [
    "Essa lista contém questões práticas incluindo os seguintes tópicos com numpy.\n",
    "\n",
    "* Criação de array e seus atributos, intervalos numéricos em numPy\n",
    "* Slicing e indexação de NumPy Array.\n",
    "* Manipulação, pesquisa, classificação e divisão de arrays.\n",
    "* Funções matemáticas com arrays e broadcasting arrays NumPy. "
   ]
  },
  {
   "cell_type": "markdown",
   "metadata": {
    "id": "mMd7TMhpo3Sh"
   },
   "source": [
    "## **Crie um array inteiro 4x2 e mostre seus atributos**\n",
    "\n",
    "Os elementos devem ser um tipo de int16 sem sinal. E imprima os seguintes atributos: formato do array; dimensões; comprimento de cada elemento do array."
   ]
  },
  {
   "cell_type": "code",
   "execution_count": 3,
   "metadata": {
    "id": "fUXqn29poD1_"
   },
   "outputs": [
    {
     "name": "stdout",
     "output_type": "stream",
     "text": [
      "Mostrando Array\n",
      ":[[64392 31655]\n",
      " [32579     0]\n",
      " [49248   462]\n",
      " [    0     0]]\n"
     ]
    }
   ],
   "source": [
    "#########################################\n",
    "#         Escreva o código aqui\n",
    "#########################################\n",
    "arr = np.array([[64392,31655],[32579,0],[49248,462],[0,0]])\n",
    "print(\"Mostrando Array\\n:{}\".format(arr))"
   ]
  },
  {
   "cell_type": "markdown",
   "metadata": {
    "id": "2vGPwePopaqA"
   },
   "source": [
    "##### Resultado esperado:\n",
    "<pre>\n",
    "Mostrando Array\n",
    "[[64392 31655]\n",
    " [32579     0]\n",
    " [49248   462]\n",
    " [    0     0]]\n",
    "\n",
    "Mostrando Attributos:\n",
    "\n",
    "Formato do array:  (4, 2)\n",
    "Número de dimensões:  2\n",
    "Comprimento de cada elemento do array:  2\n",
    "</pre>"
   ]
  },
  {
   "cell_type": "markdown",
   "metadata": {
    "id": "txYG24Btqofr"
   },
   "source": [
    "## **Crie uma array de inteiros 5X2 com um intervalo entre 100 e 200, de modo que a diferença entre cada elemento seja 10**"
   ]
  },
  {
   "cell_type": "code",
   "execution_count": null,
   "metadata": {
    "id": "b-6r5wkgp7UX"
   },
   "outputs": [],
   "source": [
    "#########################################\n",
    "#         Escreva o código aqui\n",
    "#########################################"
   ]
  },
  {
   "cell_type": "markdown",
   "metadata": {
    "id": "7K18_nlXq0ci"
   },
   "source": [
    "##### Resultado esperado:\n",
    "<pre>\n",
    "[[100 110]\n",
    " [120 130]\n",
    " [140 150]\n",
    " [160 170]\n",
    " [180 190]]\n",
    "</pre>"
   ]
  },
  {
   "cell_type": "markdown",
   "metadata": {
    "id": "m_C2-vWIuaR7"
   },
   "source": [
    "## **Baseado no array fornecido. Retorne um array de itens com a terceira coluna de todas as linhas**"
   ]
  },
  {
   "cell_type": "code",
   "execution_count": null,
   "metadata": {
    "id": "AL2jtmzfq7T3"
   },
   "outputs": [],
   "source": [
    "array_00 = np.array([[11 ,22, 33], [44, 55, 66], [77, 88, 99]])"
   ]
  },
  {
   "cell_type": "code",
   "execution_count": null,
   "metadata": {
    "id": "JjZM3S46uyrX"
   },
   "outputs": [],
   "source": [
    "#########################################\n",
    "#         Escreva o código aqui\n",
    "#########################################"
   ]
  },
  {
   "cell_type": "markdown",
   "metadata": {
    "id": "L6CkwyBRuzRE"
   },
   "source": [
    "##### Resultado esperado:\n",
    "<pre>\n",
    "Mostrando array de entrada\n",
    "[[11 22 33]\n",
    " [44 55 66]\n",
    " [77 88 99]]\n",
    "\n",
    "Novo array com a terceira coluna de cada linha\n",
    "[33 66 99]\n",
    "</pre>"
   ]
  },
  {
   "cell_type": "markdown",
   "metadata": {
    "id": "x74A04QBvHI4"
   },
   "source": [
    "## **Retorne um array com os valores presentes nas linhas ímpares com colunas pares baseado no seguinte array**"
   ]
  },
  {
   "cell_type": "code",
   "execution_count": null,
   "metadata": {
    "id": "iePh-tw4vCnp"
   },
   "outputs": [],
   "source": [
    "array_01 = np.array([[3 ,6, 9, 12], [15 ,18, 21, 24], \n",
    "[27 ,30, 33, 36], [39 ,42, 45, 48], [51 ,54, 57, 60]])"
   ]
  },
  {
   "cell_type": "code",
   "execution_count": null,
   "metadata": {
    "id": "zCzutzu5w0dt"
   },
   "outputs": [],
   "source": [
    "#########################################\n",
    "#         Escreva o código aqui\n",
    "#########################################"
   ]
  },
  {
   "cell_type": "markdown",
   "metadata": {
    "id": "M1hTKhUCvtZ0"
   },
   "source": [
    "##### Resultado esperado:\n",
    "<pre>\n",
    "Mostrando array de entrada\n",
    "[[ 3  6  9 12]\n",
    " [15 18 21 24]\n",
    " [27 30 33 36]\n",
    " [39 42 45 48]\n",
    " [51 54 57 60]]\n",
    "\n",
    "Array resultante (linha ímpar x coluna par)\n",
    "[[ 6 12]\n",
    " [30 36]\n",
    " [54 60]]\n",
    "</pre>"
   ]
  },
  {
   "cell_type": "markdown",
   "metadata": {
    "id": "BhK3jxRTwH50"
   },
   "source": [
    "## **Crie um array de resultado somando os seguintes arrays. Em seguida, modifique o array resultante calculando o quadrado de cada elemento**"
   ]
  },
  {
   "cell_type": "code",
   "execution_count": null,
   "metadata": {
    "id": "uF173c_WwATR"
   },
   "outputs": [],
   "source": [
    "array_02 = np.array([[5, 6, 9], [21 ,18, 27]])\n",
    "array_03 = np.array([[15 ,33, 24], [4 ,7, 1]])"
   ]
  },
  {
   "cell_type": "code",
   "execution_count": null,
   "metadata": {
    "id": "xBCCPW3vwz2c"
   },
   "outputs": [],
   "source": [
    "#########################################\n",
    "#         Escreva o código aqui\n",
    "#########################################"
   ]
  },
  {
   "cell_type": "markdown",
   "metadata": {
    "id": "wYHTtPWVwj4C"
   },
   "source": [
    "##### Resultado esperado:\n",
    "<pre>\n",
    "A soma dos arrays é: \n",
    "[[20 39 33]\n",
    " [25 25 28]]\n",
    "\n",
    "Resultado depois de calcular o quadrado de cada número:\n",
    "[[ 400 1521 1089]\n",
    " [ 625  625  784]]\n",
    "</pre>"
   ]
  },
  {
   "cell_type": "markdown",
   "metadata": {
    "id": "ORLtJ-Z00XCk"
   },
   "source": [
    "## **Faça a soma, subtração, multiplicação e divisão dos arrays**"
   ]
  },
  {
   "cell_type": "code",
   "execution_count": null,
   "metadata": {
    "id": "A8gdbosU0lzc"
   },
   "outputs": [],
   "source": [
    "array_04 = np.array([1, 2, 3])\n",
    "array_05 = np.array([[1, 2, 3], [4, 5, 6]])"
   ]
  },
  {
   "cell_type": "code",
   "execution_count": null,
   "metadata": {
    "id": "eQBJ6AgN0_zb"
   },
   "outputs": [],
   "source": [
    "#########################################\n",
    "#         Escreva o código aqui\n",
    "#########################################"
   ]
  },
  {
   "cell_type": "markdown",
   "metadata": {
    "id": "A_4X6IgK1CSc"
   },
   "source": [
    "##### Resultado esperado:\n",
    "<pre>\n",
    "Soma: \n",
    "[[2 4 6]\n",
    " [5 7 9]]\n",
    "Subtração: \n",
    "[[ 0  0  0]\n",
    " [-3 -3 -3]]\n",
    "Multiplicação: \n",
    "[[ 1  4  9]\n",
    " [ 4 10 18]]\n",
    "divisão: \n",
    "[[1.   1.   1.  ]\n",
    " [0.25 0.4  0.5 ]]\n",
    "</pre>"
   ]
  },
  {
   "cell_type": "markdown",
   "metadata": {
    "id": "FiMoxttBw-vA"
   },
   "source": [
    "## **Divida o array em quatro sub-arrays de tamanhos iguais**\n",
    "\n",
    "Crie um array de inteiros 8X3 com um intervalo entre 10 e 34 de modo que a diferença entre cada elemento seja 1 e, em seguida, faça a subdivisão. "
   ]
  },
  {
   "cell_type": "code",
   "execution_count": null,
   "metadata": {
    "id": "A0Xvmeuswy90"
   },
   "outputs": [],
   "source": [
    "#########################################\n",
    "#         Escreva o código aqui\n",
    "#########################################"
   ]
  },
  {
   "cell_type": "markdown",
   "metadata": {
    "id": "_8WGf4C6xaql"
   },
   "source": [
    "##### Resultado esperado:\n",
    "<pre>\n",
    "Criando o array de 8X3 usando numpy.arange\n",
    "[[10 11 12]\n",
    " [13 14 15]\n",
    " [16 17 18]\n",
    " [19 20 21]\n",
    " [22 23 24]\n",
    " [25 26 27]\n",
    " [28 29 30]\n",
    " [31 32 33]]\n",
    "\n",
    "Dividindo o array em 4 sub-arrays\n",
    "\n",
    "[array([[10, 11, 12],[13, 14, 15]]), \n",
    "array([[16, 17, 18],[19, 20, 21]]), \n",
    "array([[22, 23, 24],[25, 26, 27]]), \n",
    "array([[28, 29, 30],[31, 32, 33]])]\n",
    "</pre>"
   ]
  },
  {
   "cell_type": "markdown",
   "metadata": {
    "id": "4HwWOrIvx-RJ"
   },
   "source": [
    "## **Ordenar o seguinte array da seguinte forma:**\n",
    "\n",
    "* Ordene pela segunda linha\n",
    "* Ordene pela segunda coluna"
   ]
  },
  {
   "cell_type": "code",
   "execution_count": null,
   "metadata": {
    "id": "MmbJJFF0xn-z"
   },
   "outputs": [],
   "source": [
    "array_06 = np.array([[34,43,73],[82,22,12],[53,94,66]])"
   ]
  },
  {
   "cell_type": "code",
   "execution_count": null,
   "metadata": {
    "id": "JfSD8msFyQ8c"
   },
   "outputs": [],
   "source": [
    "#########################################\n",
    "#         Escreva o código aqui\n",
    "#########################################"
   ]
  },
  {
   "cell_type": "markdown",
   "metadata": {
    "id": "CO8qvypPySoK"
   },
   "source": [
    "##### Resultado esperado:\n",
    "<pre>\n",
    "Mostrando o array original\n",
    "[[34 43 73]\n",
    " [82 22 12]\n",
    " [53 94 66]]\n",
    "\n",
    "Ordenando o array pela segunda linha\n",
    "[[73 43 34]\n",
    " [12 22 82]\n",
    " [66 94 53]]\n",
    "\n",
    "Ordenando o array pela terceira coluna\n",
    "[[82 22 12]\n",
    " [34 43 73]\n",
    " [53 94 66]]\n",
    "</pre>"
   ]
  },
  {
   "cell_type": "markdown",
   "metadata": {
    "id": "ISgsT6m0ypH6"
   },
   "source": [
    "## **Imprima o máx. do eixo 0 e mín. Do eixo 1 do seguinte array**"
   ]
  },
  {
   "cell_type": "code",
   "execution_count": null,
   "metadata": {
    "id": "U_VF-l-bydjn"
   },
   "outputs": [],
   "source": [
    "array_07 = np.array([[34,43,73],[82,22,12],[53,94,66]])"
   ]
  },
  {
   "cell_type": "code",
   "execution_count": null,
   "metadata": {
    "id": "uiWVrzR8y3_5"
   },
   "outputs": [],
   "source": [
    "#########################################\n",
    "#         Escreva o código aqui\n",
    "#########################################"
   ]
  },
  {
   "cell_type": "markdown",
   "metadata": {
    "id": "_h-QzYNLy6Ki"
   },
   "source": [
    "##### Resultado esperado:\n",
    "<pre>\n",
    "Mostrando array original\n",
    "[[34 43 73]\n",
    " [82 22 12]\n",
    " [53 94 66]]\n",
    "\n",
    "Mostando amin do eixo 1\n",
    "[34 12 53]\n",
    "\n",
    "Mostrando amax do eixo 0\n",
    "[82 94 73]\n",
    "</pre>"
   ]
  },
  {
   "cell_type": "markdown",
   "metadata": {
    "id": "mSFScmJyzKh7"
   },
   "source": [
    "## **Exclua a segunda coluna de um determinado array e insira a nova coluna seguinte em seu lugar**"
   ]
  },
  {
   "cell_type": "code",
   "execution_count": null,
   "metadata": {
    "id": "i47AbpNdzJmJ"
   },
   "outputs": [],
   "source": [
    "array_08    = np.array([[34,43,73],[82,22,12],[53,94,66]]) \n",
    "nova_coluna = np.array([[10,10,10]])"
   ]
  },
  {
   "cell_type": "code",
   "execution_count": null,
   "metadata": {
    "id": "xUBbgLrmzZAL"
   },
   "outputs": [],
   "source": [
    "#########################################\n",
    "#         Escreva o código aqui\n",
    "#########################################"
   ]
  },
  {
   "cell_type": "markdown",
   "metadata": {
    "id": "BWHYFrQnzcwx"
   },
   "source": [
    "##### Resultado esperado:\n",
    "<pre>\n",
    "Mostrando array original\n",
    "[[34 43 73]\n",
    " [82 22 12]\n",
    " [53 94 66]]\n",
    "\n",
    "Array depois de deletar a segunda coluna\n",
    "[[34 73]\n",
    " [82 12]\n",
    " [53 66]]\n",
    "\n",
    "Array depois de inserir a nova coluna no lugar da coluna excluída\n",
    "[[34 10 73]\n",
    " [82 10 12]\n",
    " [53 10 66]]\n",
    "</pre>"
   ]
  },
  {
   "cell_type": "markdown",
   "metadata": {
    "id": "FfLYDZkGzwfn"
   },
   "source": [
    "# Pandas"
   ]
  },
  {
   "cell_type": "markdown",
   "metadata": {},
   "source": [
    "### 1. Fazer o download dos dados do desafio https://www.kaggle.com/t/5e53165f23784ce59e4379f9274e1af4"
   ]
  },
  {
   "cell_type": "markdown",
   "metadata": {},
   "source": [
    "### 2. Carregar os dados no Pandas."
   ]
  },
  {
   "cell_type": "markdown",
   "metadata": {},
   "source": [
    "### 3. Usar esses dados para praticar os comandos básicos mostrados sobre Pandas. Procure extrapolar o que foi passado em aula, visando descobrir outras funcionalidades da biblioteca. "
   ]
  }
 ],
 "metadata": {
  "colab": {
   "name": "Exercício de Numpy.ipynb",
   "provenance": []
  },
  "kernelspec": {
   "display_name": "Python 3 (ipykernel)",
   "language": "python",
   "name": "python3"
  },
  "language_info": {
   "codemirror_mode": {
    "name": "ipython",
    "version": 3
   },
   "file_extension": ".py",
   "mimetype": "text/x-python",
   "name": "python",
   "nbconvert_exporter": "python",
   "pygments_lexer": "ipython3",
   "version": "3.10.4"
  }
 },
 "nbformat": 4,
 "nbformat_minor": 1
}
