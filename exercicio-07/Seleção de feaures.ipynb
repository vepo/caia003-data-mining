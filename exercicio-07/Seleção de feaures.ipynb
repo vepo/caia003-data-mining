{
 "cells": [
  {
   "cell_type": "markdown",
   "metadata": {},
   "source": [
    "## Seleção de features baseadas em modelo (árvore de decisão)"
   ]
  },
  {
   "cell_type": "code",
   "execution_count": 3,
   "metadata": {},
   "outputs": [
    {
     "name": "stdout",
     "output_type": "stream",
     "text": [
      "(150, 4)\n",
      "[0.11798706 0.04830951 0.4053756  0.42832783]\n",
      "(150, 2)\n",
      "Index(['SepalLengthCm', 'SepalWidthCm', 'PetalLengthCm', 'PetalWidthCm'], dtype='object')\n",
      "[False False  True  True]\n"
     ]
    },
    {
     "name": "stderr",
     "output_type": "stream",
     "text": [
      "C:\\Python310\\lib\\site-packages\\sklearn\\base.py:443: UserWarning: X has feature names, but SelectFromModel was fitted without feature names\n",
      "  warnings.warn(\n"
     ]
    }
   ],
   "source": [
    "import pandas as pd\n",
    "\n",
    "from sklearn.ensemble import ExtraTreesClassifier\n",
    "from sklearn.feature_selection import SelectFromModel\n",
    "\n",
    "#Dados de exemplo IRIS\n",
    "dfIris = pd.read_csv('Iris.csv').set_index('Id')\n",
    "dfIris['Species'] = pd.Categorical(dfIris['Species'])\n",
    "dfIris['code'] = dfIris['Species'].cat.codes\n",
    "\n",
    "X = dfIris.iloc[:,0:4]\n",
    "y = dfIris['code']\n",
    "\n",
    "\n",
    "print(X.shape)\n",
    "clf = ExtraTreesClassifier(n_estimators=50)\n",
    "clf = clf.fit(X, y)\n",
    "#print(clf.feature_importances_  )\n",
    "\n",
    "model = SelectFromModel(clf, prefit=True)\n",
    "X_new = model.transform(X)\n",
    "print(X_new.shape)\n",
    "\n",
    "\n",
    "print(X.columns)\n",
    "col_index = model.get_support()\n",
    "print(col_index)"
   ]
  },
  {
   "cell_type": "markdown",
   "metadata": {},
   "source": [
    "## Seleção baseada em importância"
   ]
  },
  {
   "cell_type": "code",
   "execution_count": null,
   "metadata": {},
   "outputs": [],
   "source": [
    "import numpy as np\n",
    "from sklearn.linear_model import RidgeCV\n",
    "from sklearn.feature_selection import SelectFromModel\n",
    "\n",
    "\n",
    "ridge = RidgeCV().fit(X, y)\n",
    "\n",
    "importance = np.abs(ridge.coef_)\n",
    "\n",
    "feature_names = X.columns\n",
    "\n",
    "#Como a ideia é selecioonar 2 features, vamos colocar o threshold um pouco acima da terceiro melhor coeficiente\n",
    "threshold = np.sort(importance)[-3] + 0.01\n",
    "\n",
    "sfm = SelectFromModel(ridge, threshold=threshold).fit(X, y)\n",
    "\n",
    "feature_names[sfm.get_support()]"
   ]
  },
  {
   "cell_type": "markdown",
   "metadata": {},
   "source": [
    "## Seleção de features univariada\n",
    "\n"
   ]
  },
  {
   "cell_type": "code",
   "execution_count": 4,
   "metadata": {},
   "outputs": [
    {
     "name": "stdout",
     "output_type": "stream",
     "text": [
      "(150, 4)\n",
      "(150, 2)\n",
      "Index(['SepalLengthCm', 'SepalWidthCm', 'PetalLengthCm', 'PetalWidthCm'], dtype='object')\n",
      "[False False  True  True]\n"
     ]
    }
   ],
   "source": [
    "\n",
    "from sklearn.feature_selection import SelectKBest\n",
    "from sklearn.feature_selection import chi2\n",
    "\n",
    "print(X.shape)\n",
    "\n",
    "model = SelectKBest(chi2, k=2)\n",
    "X_new = model.fit_transform(X, y)\n",
    "X_new.shape\n",
    "\n",
    "print(X_new.shape)\n",
    "\n",
    "col_index = model.get_support()\n",
    "\n",
    "print(X.columns)\n",
    "print(col_index)\n"
   ]
  },
  {
   "cell_type": "code",
   "execution_count": null,
   "metadata": {},
   "outputs": [],
   "source": [
    "## Na versão 0.24 do sklearn tem mais outros recursos implementados, como o SequentialFeatureSelector  \n"
   ]
  },
  {
   "cell_type": "markdown",
   "metadata": {},
   "source": [
    "# Principal Component Analysis - PCA"
   ]
  },
  {
   "cell_type": "code",
   "execution_count": null,
   "metadata": {},
   "outputs": [],
   "source": [
    "# Carregando todas as features do dataset wine\n",
    "import pandas as pd\n",
    "df = pd.read_csv('wine_data.csv', header=None)\n",
    "\n",
    "df"
   ]
  },
  {
   "cell_type": "code",
   "execution_count": null,
   "metadata": {},
   "outputs": [],
   "source": [
    "#Carregando somente as features do dataset wine, sem as classes (coluna 0)\n",
    "dfAllFeatures = df.iloc[:,1:]\n",
    "\n",
    "dfAllFeatures"
   ]
  },
  {
   "cell_type": "code",
   "execution_count": null,
   "metadata": {},
   "outputs": [],
   "source": [
    "#Somente as classes\n",
    "dfClasses = df.iloc[:,0]\n",
    "dfClasses"
   ]
  },
  {
   "cell_type": "code",
   "execution_count": null,
   "metadata": {},
   "outputs": [],
   "source": [
    "from sklearn import preprocessing\n",
    "\n",
    "#Normalização\n",
    "std_scaler = preprocessing.StandardScaler()\n",
    "\n",
    "dfAllFeatures_norm = std_scaler.fit_transform(dfAllFeatures)"
   ]
  },
  {
   "cell_type": "markdown",
   "metadata": {},
   "source": [
    "#### Aplicando o PCA no conjunto sem e com normalização"
   ]
  },
  {
   "cell_type": "code",
   "execution_count": null,
   "metadata": {},
   "outputs": [],
   "source": [
    "from sklearn.decomposition import PCA\n",
    "import seaborn as sns\n",
    "\n",
    "# Nos dados originais\n",
    "pca = PCA(n_components=2)\n",
    "X = pca.fit_transform(df)\n",
    "\n",
    "\n",
    "# Nos dados normalizados\n",
    "pca_std = PCA(n_components=2)\n",
    "X_std = pca_std.fit_transform(dfAllFeatures_norm)"
   ]
  },
  {
   "cell_type": "code",
   "execution_count": null,
   "metadata": {},
   "outputs": [],
   "source": [
    "#Cria um dataframe com os dados sem normalização do PCA\n",
    "dfNoScale = pd.DataFrame(X, columns = ['PC1','PC2'])\n",
    "dfNoScale['Classes'] = dfClasses\n",
    "\n",
    "dfNoScale"
   ]
  },
  {
   "cell_type": "code",
   "execution_count": null,
   "metadata": {},
   "outputs": [],
   "source": [
    "#Visualização dos dois PCs - classes foram adicionadas em cores\n",
    "sns.scatterplot(data=dfNoScale, x=\"PC1\", y=\"PC2\", hue='Classes', palette='tab10')"
   ]
  },
  {
   "cell_type": "code",
   "execution_count": null,
   "metadata": {},
   "outputs": [],
   "source": [
    "#Cria um dataframe com os dados com normalização do PCA\n",
    "dfWithScale = pd.DataFrame(X_std, columns = ['PC1','PC2'])\n",
    "dfWithScale['Classes'] = dfClasses\n",
    "\n",
    "\n",
    "#Visualiza os dados - Note como a separação de classes fica melhor depois dos dados normalizados.\n",
    "sns.scatterplot(data=dfWithScale, x=\"PC1\", y=\"PC2\", hue='Classes', palette='tab10')"
   ]
  }
 ],
 "metadata": {
  "kernelspec": {
   "display_name": "Python 3 (ipykernel)",
   "language": "python",
   "name": "python3"
  },
  "language_info": {
   "codemirror_mode": {
    "name": "ipython",
    "version": 3
   },
   "file_extension": ".py",
   "mimetype": "text/x-python",
   "name": "python",
   "nbconvert_exporter": "python",
   "pygments_lexer": "ipython3",
   "version": "3.10.4"
  }
 },
 "nbformat": 4,
 "nbformat_minor": 4
}
