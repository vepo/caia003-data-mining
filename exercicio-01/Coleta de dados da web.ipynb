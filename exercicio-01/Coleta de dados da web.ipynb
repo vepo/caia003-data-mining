{
 "cells": [
  {
   "cell_type": "markdown",
   "metadata": {},
   "source": [
    "## Coleta de dados da Web\n",
    "\n",
    "Demonstração de alguns recursos importantes para essa tarefa"
   ]
  },
  {
   "cell_type": "markdown",
   "metadata": {},
   "source": [
    "_Victor Emanuel Perticarrari Osório_"
   ]
  },
  {
   "cell_type": "markdown",
   "metadata": {},
   "source": [
    "# Carregando Bibliotecas"
   ]
  },
  {
   "cell_type": "code",
   "execution_count": 1,
   "metadata": {},
   "outputs": [
    {
     "name": "stdout",
     "output_type": "stream",
     "text": [
      "Requirement already satisfied: TwitterAPI in c:\\python310\\lib\\site-packages (2.7.13)\n",
      "Requirement already satisfied: requests in c:\\python310\\lib\\site-packages (from TwitterAPI) (2.28.1)\n",
      "Requirement already satisfied: requests_oauthlib in c:\\python310\\lib\\site-packages (from TwitterAPI) (1.3.1)\n",
      "Requirement already satisfied: charset-normalizer<3,>=2 in c:\\python310\\lib\\site-packages (from requests->TwitterAPI) (2.1.0)\n",
      "Requirement already satisfied: idna<4,>=2.5 in c:\\python310\\lib\\site-packages (from requests->TwitterAPI) (3.3)\n",
      "Requirement already satisfied: certifi>=2017.4.17 in c:\\python310\\lib\\site-packages (from requests->TwitterAPI) (2022.6.15)\n",
      "Requirement already satisfied: urllib3<1.27,>=1.21.1 in c:\\python310\\lib\\site-packages (from requests->TwitterAPI) (1.26.11)\n",
      "Requirement already satisfied: oauthlib>=3.0.0 in c:\\python310\\lib\\site-packages (from requests_oauthlib->TwitterAPI) (3.2.0)\n"
     ]
    },
    {
     "name": "stderr",
     "output_type": "stream",
     "text": [
      "WARNING: Ignoring invalid distribution -ip (c:\\python310\\lib\\site-packages)\n",
      "WARNING: Ignoring invalid distribution -ip (c:\\python310\\lib\\site-packages)\n",
      "WARNING: Ignoring invalid distribution -ip (c:\\python310\\lib\\site-packages)\n",
      "WARNING: Ignoring invalid distribution -ip (c:\\python310\\lib\\site-packages)\n",
      "WARNING: Ignoring invalid distribution -ip (c:\\python310\\lib\\site-packages)\n",
      "WARNING: Ignoring invalid distribution -ip (c:\\python310\\lib\\site-packages)\n"
     ]
    },
    {
     "name": "stdout",
     "output_type": "stream",
     "text": [
      "Requirement already satisfied: simplejson in c:\\python310\\lib\\site-packages (3.17.6)\n"
     ]
    },
    {
     "name": "stderr",
     "output_type": "stream",
     "text": [
      "WARNING: Ignoring invalid distribution -ip (c:\\python310\\lib\\site-packages)\n",
      "WARNING: Ignoring invalid distribution -ip (c:\\python310\\lib\\site-packages)\n",
      "WARNING: Ignoring invalid distribution -ip (c:\\python310\\lib\\site-packages)\n",
      "WARNING: Ignoring invalid distribution -ip (c:\\python310\\lib\\site-packages)\n",
      "WARNING: Ignoring invalid distribution -ip (c:\\python310\\lib\\site-packages)\n",
      "WARNING: Ignoring invalid distribution -ip (c:\\python310\\lib\\site-packages)\n"
     ]
    },
    {
     "name": "stdout",
     "output_type": "stream",
     "text": [
      "Requirement already satisfied: pandas in c:\\python310\\lib\\site-packages (1.4.3)\n",
      "Requirement already satisfied: pytz>=2020.1 in c:\\python310\\lib\\site-packages (from pandas) (2022.2.1)\n",
      "Requirement already satisfied: numpy>=1.21.0 in c:\\python310\\lib\\site-packages (from pandas) (1.23.2)\n",
      "Requirement already satisfied: python-dateutil>=2.8.1 in c:\\users\\victoros\\appdata\\roaming\\python\\python310\\site-packages (from pandas) (2.8.2)\n",
      "Requirement already satisfied: six>=1.5 in c:\\users\\victoros\\appdata\\roaming\\python\\python310\\site-packages (from python-dateutil>=2.8.1->pandas) (1.16.0)\n"
     ]
    },
    {
     "name": "stderr",
     "output_type": "stream",
     "text": [
      "WARNING: Ignoring invalid distribution -ip (c:\\python310\\lib\\site-packages)\n",
      "WARNING: Ignoring invalid distribution -ip (c:\\python310\\lib\\site-packages)\n",
      "WARNING: Ignoring invalid distribution -ip (c:\\python310\\lib\\site-packages)\n",
      "WARNING: Ignoring invalid distribution -ip (c:\\python310\\lib\\site-packages)\n",
      "WARNING: Ignoring invalid distribution -ip (c:\\python310\\lib\\site-packages)\n",
      "WARNING: Ignoring invalid distribution -ip (c:\\python310\\lib\\site-packages)\n"
     ]
    },
    {
     "name": "stdout",
     "output_type": "stream",
     "text": [
      "Requirement already satisfied: pymongo in c:\\python310\\lib\\site-packages (4.2.0)\n"
     ]
    },
    {
     "name": "stderr",
     "output_type": "stream",
     "text": [
      "WARNING: Ignoring invalid distribution -ip (c:\\python310\\lib\\site-packages)\n",
      "WARNING: Ignoring invalid distribution -ip (c:\\python310\\lib\\site-packages)\n",
      "WARNING: Ignoring invalid distribution -ip (c:\\python310\\lib\\site-packages)\n",
      "WARNING: Ignoring invalid distribution -ip (c:\\python310\\lib\\site-packages)\n",
      "WARNING: Ignoring invalid distribution -ip (c:\\python310\\lib\\site-packages)\n",
      "WARNING: Ignoring invalid distribution -ip (c:\\python310\\lib\\site-packages)\n"
     ]
    },
    {
     "name": "stdout",
     "output_type": "stream",
     "text": [
      "Requirement already satisfied: beautifulsoup4 in c:\\users\\victoros\\appdata\\roaming\\python\\python310\\site-packages (4.11.1)\n",
      "Requirement already satisfied: soupsieve>1.2 in c:\\users\\victoros\\appdata\\roaming\\python\\python310\\site-packages (from beautifulsoup4) (2.3.2.post1)\n"
     ]
    },
    {
     "name": "stderr",
     "output_type": "stream",
     "text": [
      "WARNING: Ignoring invalid distribution -ip (c:\\python310\\lib\\site-packages)\n",
      "WARNING: Ignoring invalid distribution -ip (c:\\python310\\lib\\site-packages)\n",
      "WARNING: Ignoring invalid distribution -ip (c:\\python310\\lib\\site-packages)\n",
      "WARNING: Ignoring invalid distribution -ip (c:\\python310\\lib\\site-packages)\n",
      "WARNING: Ignoring invalid distribution -ip (c:\\python310\\lib\\site-packages)\n",
      "WARNING: Ignoring invalid distribution -ip (c:\\python310\\lib\\site-packages)\n"
     ]
    },
    {
     "name": "stdout",
     "output_type": "stream",
     "text": [
      "Requirement already satisfied: selenium in c:\\python310\\lib\\site-packages (4.4.3)\n",
      "Requirement already satisfied: urllib3[socks]~=1.26 in c:\\python310\\lib\\site-packages (from selenium) (1.26.11)\n",
      "Requirement already satisfied: trio-websocket~=0.9 in c:\\python310\\lib\\site-packages (from selenium) (0.9.2)\n",
      "Requirement already satisfied: certifi>=2021.10.8 in c:\\python310\\lib\\site-packages (from selenium) (2022.6.15)\n",
      "Requirement already satisfied: trio~=0.17 in c:\\python310\\lib\\site-packages (from selenium) (0.21.0)\n",
      "Requirement already satisfied: cffi>=1.14 in c:\\users\\victoros\\appdata\\roaming\\python\\python310\\site-packages (from trio~=0.17->selenium) (1.15.1)\n",
      "Requirement already satisfied: attrs>=19.2.0 in c:\\users\\victoros\\appdata\\roaming\\python\\python310\\site-packages (from trio~=0.17->selenium) (22.1.0)\n",
      "Requirement already satisfied: sortedcontainers in c:\\python310\\lib\\site-packages (from trio~=0.17->selenium) (2.4.0)\n",
      "Requirement already satisfied: idna in c:\\python310\\lib\\site-packages (from trio~=0.17->selenium) (3.3)\n",
      "Requirement already satisfied: async-generator>=1.9 in c:\\python310\\lib\\site-packages (from trio~=0.17->selenium) (1.10)\n",
      "Requirement already satisfied: outcome in c:\\python310\\lib\\site-packages (from trio~=0.17->selenium) (1.2.0)\n",
      "Requirement already satisfied: sniffio in c:\\python310\\lib\\site-packages (from trio~=0.17->selenium) (1.2.0)\n",
      "Requirement already satisfied: wsproto>=0.14 in c:\\python310\\lib\\site-packages (from trio-websocket~=0.9->selenium) (1.1.0)\n",
      "Requirement already satisfied: PySocks!=1.5.7,<2.0,>=1.5.6 in c:\\python310\\lib\\site-packages (from urllib3[socks]~=1.26->selenium) (1.7.1)\n",
      "Requirement already satisfied: pycparser in c:\\users\\victoros\\appdata\\roaming\\python\\python310\\site-packages (from cffi>=1.14->trio~=0.17->selenium) (2.21)\n",
      "Requirement already satisfied: h11<1,>=0.9.0 in c:\\python310\\lib\\site-packages (from wsproto>=0.14->trio-websocket~=0.9->selenium) (0.13.0)\n"
     ]
    },
    {
     "name": "stderr",
     "output_type": "stream",
     "text": [
      "WARNING: Ignoring invalid distribution -ip (c:\\python310\\lib\\site-packages)\n",
      "WARNING: Ignoring invalid distribution -ip (c:\\python310\\lib\\site-packages)\n",
      "WARNING: Ignoring invalid distribution -ip (c:\\python310\\lib\\site-packages)\n",
      "WARNING: Ignoring invalid distribution -ip (c:\\python310\\lib\\site-packages)\n",
      "WARNING: Ignoring invalid distribution -ip (c:\\python310\\lib\\site-packages)\n",
      "WARNING: Ignoring invalid distribution -ip (c:\\python310\\lib\\site-packages)\n"
     ]
    }
   ],
   "source": [
    "#Instalação das apis - caso não tenha instalado\n",
    "!pip install TwitterAPI\n",
    "!pip install simplejson\n",
    "!pip install pandas\n",
    "!pip install pymongo\n",
    "!pip install beautifulsoup4\n",
    "!pip install selenium"
   ]
  },
  {
   "cell_type": "markdown",
   "metadata": {},
   "source": [
    "# Execício 1\n",
    "\n",
    "Faça uma adaptação no coletor de tweets para coletar qualquer tipo de tweet compartilhado no\n",
    "Brasil. Dica: veja a documentação da biblioteca TwitterApi. Faça uma coleta por alguns minutos,\n",
    "salvando o resultado em um arquivo ou em um banco de dados."
   ]
  },
  {
   "cell_type": "code",
   "execution_count": 4,
   "metadata": {
    "scrolled": true
   },
   "outputs": [
    {
     "name": "stdout",
     "output_type": "stream",
     "text": [
      "<TwitterAPI.TwitterAPI.TwitterAPI object at 0x0000020298DF2CB0>\n"
     ]
    }
   ],
   "source": [
    "from TwitterAPI import TwitterAPI\n",
    "\n",
    "\n",
    "## Substitua os valores abaixo\n",
    "## Crie chaves em https://developer.twitter.com/en/portal/apps\n",
    "twitter_api = TwitterAPI(consumer_key='XXXX',\n",
    "                         consumer_secret='XXXX',\n",
    "                         access_token_key='XXXX',\n",
    "                         access_token_secret='XXXX')\n",
    "print(twitter_api)"
   ]
  },
  {
   "cell_type": "markdown",
   "metadata": {},
   "source": [
    "Os dados serão armazenados no MongoDB como foram recebidos.\n",
    "\n",
    "Instale um MongoDB sem restrição de acesso ou execute o container abaixo:\n",
    "\n",
    "```bash\n",
    "docker run --name tweets -p 27017:27017 -d mongo:4\n",
    "```"
   ]
  },
  {
   "cell_type": "code",
   "execution_count": 5,
   "metadata": {},
   "outputs": [
    {
     "name": "stdout",
     "output_type": "stream",
     "text": [
      "Tweets coletados: 4316\n"
     ]
    }
   ],
   "source": [
    "import time\n",
    "## Tutorial pandas: https://pandas.pydata.org/docs/getting_started/intro_tutorials/01_table_oriented.html#min-tut-01-tableoriented\n",
    "import pandas as pd\n",
    "\n",
    "from pymongo import MongoClient\n",
    "import pymongo\n",
    "\n",
    "## Coordenadas encontradas em https://gist.github.com/graydon/11198540\n",
    "filters = {\"locations\": \"-73.9872354804, -33.7683777809, -34.7299934555, 5.2444863956\"}\n",
    "\n",
    "tweet_stream = twitter_api.request('statuses/filter', filters).get_iterator()\n",
    "TEMPO_TOTAL_EM_MIN = 0.5\n",
    "CONNECTION_STRING = \"mongodb://localhost:27017/tweets\"\n",
    "client = MongoClient(CONNECTION_STRING)\n",
    "database = client['dados']\n",
    "tweets_collections = database[\"tweets\"]\n",
    "df = None\n",
    "t_inicial = time.time() ## Inicio em segundos\n",
    "for tweet in tweet_stream:\n",
    "    try:\n",
    "        ## Usando id do tweet para evitar tweets repetidos\n",
    "        tweet['_id'] = tweet['id']\n",
    "        del tweet['id']\n",
    "        tweets_collections.insert_one(tweet)\n",
    "    except Exception as ex:\n",
    "        print(ex)\n",
    "    t_total = time.time() - t_inicial\n",
    "    if t_total > TEMPO_TOTAL_EM_MIN * 60:\n",
    "        break\n",
    "print(\"Tweets coletados: {}\".format(tweets_collections.count_documents({})))"
   ]
  },
  {
   "cell_type": "markdown",
   "metadata": {},
   "source": [
    "# Exercício 2\n",
    "Com base no dataset gerado na questão 1, faça:\n",
    "  1. Separe todas as hashtags usadas nos Tweets.\n",
    "  2. Descubra a porcentagem de tweets com hashtags.\n",
    "  3. Identifique a hashtag mais popular."
   ]
  },
  {
   "cell_type": "code",
   "execution_count": 6,
   "metadata": {},
   "outputs": [
    {
     "name": "stdout",
     "output_type": "stream",
     "text": [
      "1. Todas hashtags: ['1MDoSport', '2022candidatocomecandocom13naoconfirmar', '2022gameoverlulismo', 'AM', 'AMExSPFC', 'ATENCIÓN', 'AYUDEMOS', 'AlemDaIlusao', 'ApruebaSeraHermoso', 'Apruebazo', 'Apruebo', 'AprueboFeliz', 'AprueboSinMiedo', 'AprueboUnChileMejor', 'Arequipa', 'B22', 'BUNDAAWARDS', 'BUNDASAWARDS', 'Bogotá', 'Bolsonaro22', 'BolsonaroNoPrimeiroTurno', 'BolsonaroReeleito', 'BritneyIsComing', 'BuenasNoches', 'BuenasNochesATodos', 'CHILE', 'CHVNoticias', 'COLABOREMOS', 'COMPARTAMOS', 'CantaConmigoAhora', 'Chano', 'ChvNoticias', 'CiroComAndreMarinho', 'CiroComAndréMarinho', 'CiroPresidente12', 'ConhecerParaPreservar', 'ConvivenciaEscolar', 'CopaChileEasy', 'CopaDoBrasil', 'CopadoMundo', 'CoquimboUnido', 'Cordoba', 'DailyPikminBloom', 'DaleRaya', 'Dentist', 'DesisteCiro', 'DisciplinaTour', 'Disney', 'EDLP', 'EEUU', 'EdegarPrettoGovernador13', 'EuNunca3', 'ForaBolsonaro', 'FueraAzulAzul', 'GabrielMonteiroCassado', 'GabrielMonteiroNaCadeia', 'Gabrielmonteiro', 'HOLYFVCK', 'HoldMeCloser', 'Huachipato', 'Juevesdepiernas', 'KCAMexico', 'KOFXV', 'Kaçış', 'LATAM', 'LULADay', 'LaVozArgentina', 'LeagueOfLegends', 'Lucas', 'Lula2022', 'LulaNo1ºTurno', 'LulaPresidente', 'Marvel', 'MarvelStudios', 'MeuAniversárioNoTwitter', 'MiPaísImaginario', 'MiguelBustinduy', 'NFL', 'NFLPreseason', 'NFLTwitter', 'NemLulaNemBolsonaro', 'NewProfilePic', 'NoMeuVotoNinguemMexe', 'NÃORECUASÃOPAULO', 'OcapitaoVaiVencerOladrao', 'OlívioSenador131', 'PANTANAL', 'PAULOVIEIRA', 'PEITOAWARDS', 'PINKVENOM', 'PINTOSAWARDS', 'Pantanal', 'Pantanar', 'Pase', 'PauloVieira', 'Plussizewoman', 'PrefiroCiroPresidente12', 'REPOST', 'ROLLINGKITCHENBRNOGNT', 'ReageVida', 'Recife', 'RipCurlPro', 'RodrigoGarciaPesadelo', 'RollingKitchenBRNoGNT', 'RollingKitchenBrasil', 'RompendoAPolarizacao', 'Ruta43', 'SNK', 'SP', 'SaludMental', 'ServilesVendenODIOxplata', 'SeñoraJusticia', 'SheHulk', 'SheHulkAttorneyAtLaw', 'SimoneeSimaria', 'SinFiltros', 'SteveRogers', 'StupidWife', 'TATECHÍ', 'TBT', 'TaconesRojos', 'Talleres', 'Teahupoo', 'TeamSoledad', 'TikTok', 'UTA', 'VamosLaU', 'Vamos_Azules', 'Vasco', 'Viernes', 'WSL', 'Yatra', 'YoApruebo', 'agendapolítica', 'amexsao', 'amexspfc', 'berrini', 'boanoite', 'brasildaesperança', 'cidadedagaroa', 'corno', 'cuckloud', 'cuscuzévida', 'darkside', 'debatecorreio', 'deputado', 'deputadofederal', 'desbancalizar', 'deusnocomando', 'ecenao', 'economia', 'espnequipof', 'fakenews', 'faleitoleve', 'fazcilita', 'floripa', 'fuifeliz', 'globo', 'governador', 'hobipalloozabrasil2023', 'hotife', 'hotwifebrasil', 'humorbrasil', 'humorbrasileiro', 'humordodia', 'iamhowiam', 'joaogomes', 'knockouts', 'laneylatinoamerica', 'lorrainewarren', 'lula2022', 'lulaforadacadeiaégolpe', 'lulapresidente', 'lulapresidente13', 'lulavcsabequeperdeu', 'manaus', 'marcozero', 'masturbador', 'masturbadorMasculino', 'memepage', 'memesengraçados', 'monstruo', 'newells', 'oab', 'oabbarra', 'oabbarradatijuca', 'odonto', 'oracionalsol', 'oraciónalsol', 'orgulhodesernordestino', 'pantanal', 'parabens', 'partiutrilhas', 'partiutrilhasetrip', 'pedradamacela', 'perkines', 'pix', 'plussize', 'presidente', 'pss', 'quintafeira', 'rollingkitchenbrNoGNT', 'safadinha', 'saopaulo', 'saopaulofc', 'saudadesdeumatrilha', 'sbt', 'sbtcompartilhe', 'sbtista', 'sbtnaweb', 'sbtonline', 'senador', 'spfc', 'stupidwife', 'tbt', 'tbtdeferias', 'tchutchucaDoCentrao', 'terracoitalia', 'thuthucadocentrao', 'travelling', 'trip', 'turistando', 'vemjhope', 'vidaseternas', 'wildrift']\n",
      "2. Tweets com hashtag: 4.33%\n",
      "3. Mais popular: tag=Pantanal ocorrência=8\n"
     ]
    }
   ],
   "source": [
    "AGG_HASHTAGS_HISTOGRAM = [{'$project': {'entities.hashtags.text': 1}}, {'$match': {'entities.hashtags': {'$not': {'$size': 0}}}}, {'$project': {'hashtag': '$entities.hashtags.text'}}, {'$unwind': '$hashtag'}, {'$group': {'_id': '$hashtag', 'frequence': {'$sum': 1}}}, {'$sort': {'frequence': -1}}]\n",
    "AGG_HASHTAGS_TODAS = [{'$project': {'entities.hashtags.text': 1}}, {'$match': {'entities.hashtags': {'$not': {'$size': 0}}}}, {'$project': {'hashtag': '$entities.hashtags.text'}}, {'$unwind': '$hashtag'}, {'$group': {'_id': None, 'hashtags': {'$addToSet': '$hashtag'}}}, {'$unwind': '$hashtags'}, {'$sort': {'hashtags': 1}}, {'$group': {'_id': None, 'hashtags': {'$push': '$hashtags'}}}]\n",
    "AGG_HASHTAG_INFO = [{'$project': {'_id': '$_id', 'hashtag': {'$cond': [{'$gt': [{'$size': '$entities.hashtags'}, 0]}, 1, 0]}}}, {'$group': {'_id': None, 'total': {'$sum': 1}, 'total_hash': {'$sum': '$hashtag'}}}]\n",
    "\n",
    "## 1. Separe todas as hashtags usadas nos Tweets\n",
    "todas_hashtags = tweets_collections.aggregate(AGG_HASHTAGS_TODAS).next()\n",
    "print(\"1. Todas hashtags: {}\".format(todas_hashtags['hashtags']))\n",
    "\n",
    "info_hashtags = tweets_collections.aggregate(AGG_HASHTAG_INFO).next()\n",
    "print(\"2. Tweets com hashtag: {:0.2f}%\".format((info_hashtags['total_hash'] / info_hashtags['total']) * 100))\n",
    "\n",
    "popular_hashtag = tweets_collections.aggregate(AGG_HASHTAGS_HISTOGRAM).next()\n",
    "print(\"3. Mais popular: tag={} ocorrência={}\".format(popular_hashtag[\"_id\"], popular_hashtag[\"frequence\"]))"
   ]
  },
  {
   "cell_type": "markdown",
   "metadata": {},
   "source": [
    "# Exercício 3\n",
    "\n",
    "Faça um coletor que capture as reviews da página principal de:\n",
    "https://www.apontador.com.br/local/sp/campinas/faculdades_e_universidades/88Q2E372/\n",
    "unicamp.html."
   ]
  },
  {
   "cell_type": "code",
   "execution_count": 10,
   "metadata": {},
   "outputs": [
    {
     "name": "stdout",
     "output_type": "stream",
     "text": [
      "Sucesso\n",
      "\n",
      "Nome:        Renan Cunha De Sousa\n",
      "Commentário:  Unicamp é umas das mais cobiçadas universidades de Campinas e região, devido a sua imensa qualidade, por ser federal se torna a melhor faculdade da região. Sem contar o seu Campus que é sensacional, como se fosse uma cidade, possui quadras com prédios, até uma linha de ônibus circular que permanece dentro do campus apenas devido o seu tamanho. A universidade conta também com o Hospital das Clínicas, gratuito pelo SUS e administrar o hospital de Sumaré. As provas para ingressar na faculdade são por fases com respostas alternativas e requisitando cerca de 3 redações o número de candidatos por vaga é bem alto principalmente no curso de medicina, o problema fica no pagamento do vestibular que é cerca de 120~140 reais para poder executa-la. A graduação é em tempo integral com isso a faculdade possui centro de pesquisas, onde é possível fazer iniciações cientificas ou mini empresas, para que os alunos tenham uma breve praticidade no mercado de trabalho devido a dificuldade para o estagio devido ao tempo integral em aula. \n",
      "\n",
      "Nome:        Larissa Bannwart\n",
      "Commentário:  A unicamp é a maior universidade de Campinas, possuindo, inclusive, ônibus de circulação interna. O campus principal fica localizado no distrito de Barão Geraldo, em Campinas, mas há ainda outros campus menores em Limeira e Piracicaba. A universidade integra o ranking de melhores universidades do Brasil e hospeda em Campinas o Hospital das Clínicas, com atendimento gratuito integralmente pelo SUS, além de também administrar um hospital em Sumaré. Antigamente, a universidade era conhecida pela complexidade do vestibular, que consistia de forma descritiva em ambas as fases. Hoje, a universidade se adequou ao sistema de respostas alternativas, porém, começou a requisitar 3 redações, e o número de candidatos por vaga continua bastante alto. Ela também é conhecida pelo investimento em pesquisas e pelo desenvolvimento de novos projetos. A biblioteca central é gigantesca e possui inúmeros títulos disponíveis para locação e, de acordo com o tipo de formação (graduação, mestrado, doutorado), é possível pegar mais livros. Cada curso possui um centro específico, excepto pelo pessoal da Engenharia que possui o Ciclo Básico para todos os cursos. A universidade ainda disponibiliza moradia para os alunos carentes e que comprovarem não ter condições de se manter.  \n",
      "\n",
      "Nome:        Miih Moraes\n",
      "Commentário:   Eita como Barao Geraldo e friooooooo aff \n",
      "\n",
      "Nome:        Thiago Ganzarolli Da Silva\n",
      "Commentário:  É muito agradável estudar em um campus grande, com muitas locais para estudar: mesas no ciclo básico, biblioteca central ou de outros institutos, uma sala vazia... Uma universidade excelente não só pelo ensino, mas pelos pessoas, colegas e professores que realmente fazem o lugar. \n",
      "\n",
      "Nome:        Eduardo M. Maçan\n",
      "Commentário:  Cursei engenharia de computação na Unicamp e foram os melhores anos da minha vida. O ambiente universitário, a abundância de conhecimento ao meu redor em todas as áreas, tudo isso contribuiu para minha formação, não apenas técnica. Voltaria a qualquer momento e a recomendo para quem quiser usufruir do melhor ensino do país, estando apto a pagar com a dedicação necessária. \n",
      "\n",
      "Nome:        Anderson Thees\n",
      "Commentário:  A UNICAMP é uma universidade muito boa. O fato de estar um pouco distante de Campinas (40 mins) promove uma experiência diferenciada, criando uma comunidade muito mais engajada. A qualidade do ensino é de padrão mundial. Orgulho de ser ex-aluno! \n"
     ]
    }
   ],
   "source": [
    "import requests\n",
    "from bs4 import BeautifulSoup\n",
    "\n",
    "req = requests.get(\"https://www.apontador.com.br/local/sp/campinas/faculdades_e_universidades/88Q2E372/unicamp.html\")\n",
    "if req.status_code >= 200 and req.status_code < 300:\n",
    "    print(\"Sucesso\")\n",
    "    soup = BeautifulSoup(req.content, 'html.parser')\n",
    "    comentarios = soup.find_all(name='div',attrs={'class':\"store-comments__item\"})\n",
    "    for comentario in comentarios:\n",
    "        print(\"\"\"\n",
    "Nome:        {}\n",
    "Commentário: {}\"\"\".format(comentario.find(attrs={'class':\"name\"}).get_text(),\n",
    "                          comentario.find(attrs={'class':\"store-comments__text\"}).get_text()))\n",
    "else:\n",
    "    print(\"ERRO! {}\".format(req.status_code))"
   ]
  },
  {
   "cell_type": "markdown",
   "metadata": {},
   "source": [
    "# Exercício 4\n",
    "\n",
    "Crie uma aplicação que usa o Selenium para abrir o site https://www.uol.com.br/ e rolar a página\n",
    "para baixo até o fim do conteúdo."
   ]
  },
  {
   "cell_type": "code",
   "execution_count": null,
   "metadata": {},
   "outputs": [
    {
     "name": "stderr",
     "output_type": "stream",
     "text": [
      "C:\\Users\\victoros\\AppData\\Local\\Temp\\ipykernel_14040\\2169359952.py:3: DeprecationWarning: executable_path has been deprecated, please pass in a Service object\n",
      "  driver = webdriver.Chrome(executable_path='./chromedriver')\n"
     ]
    }
   ],
   "source": [
    "from selenium import webdriver\n",
    "\n",
    "driver = webdriver.Chrome(executable_path='./chromedriver')\n",
    "\n",
    "\n",
    "driver.get(\"https://www.uol.com.br/\")  \n",
    "driver.execute_script(\"window.scrollTo(0, document.body.scrollHeight);\")"
   ]
  },
  {
   "cell_type": "code",
   "execution_count": null,
   "metadata": {},
   "outputs": [],
   "source": []
  }
 ],
 "metadata": {
  "kernelspec": {
   "display_name": "Python 3 (ipykernel)",
   "language": "python",
   "name": "python3"
  },
  "language_info": {
   "codemirror_mode": {
    "name": "ipython",
    "version": 3
   },
   "file_extension": ".py",
   "mimetype": "text/x-python",
   "name": "python",
   "nbconvert_exporter": "python",
   "pygments_lexer": "ipython3",
   "version": "3.10.4"
  },
  "vscode": {
   "interpreter": {
    "hash": "369f2c481f4da34e4445cda3fffd2e751bd1c4d706f27375911949ba6bb62e1c"
   }
  }
 },
 "nbformat": 4,
 "nbformat_minor": 4
}
